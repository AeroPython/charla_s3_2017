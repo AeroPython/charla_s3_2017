{
 "cells": [
  {
   "cell_type": "markdown",
   "metadata": {
    "slideshow": {
     "slide_type": "slide"
    }
   },
   "source": [
    " \n",
    "# Programando en Ingeniería Aeroespacial\n",
    "\n",
    "<center><img src=\"images/cover.png\" width=1000px></center>\n",
    "\n",
    "###### Mabel Delgado, Jesús Martos, Siro Moreno, Alejandro Sáez"
   ]
  },
  {
   "cell_type": "markdown",
   "metadata": {
    "slideshow": {
     "slide_type": "slide"
    }
   },
   "source": [
    "# ¿Quiénes somos?\n",
    "\n",
    "<center><img src=\"images/who_we_are.png\" width=900px></center>"
   ]
  },
  {
   "cell_type": "markdown",
   "metadata": {
    "slideshow": {
     "slide_type": "subslide"
    }
   },
   "source": [
    "# ¿Quiénes somos?\n",
    "\n",
    "* Ingenieros ~~aeronáuticos~~ la mayoría aeronáuticos\n",
    "* Con pasión por:\n",
    "  - la programación científica\n",
    "  - el análisis de datos\n",
    "  - la simulación\n",
    "* Con ganas de seguir formando una comunidad\n",
    "* Con la predisposición a ayudarte y enseñarte"
   ]
  },
  {
   "cell_type": "markdown",
   "metadata": {
    "slideshow": {
     "slide_type": "subslide"
    }
   },
   "source": [
    "# ¿Cómo empezó todo?\n",
    "\n",
    "<center><img src=\"images/entrada-etsiae-alumnos.jpg\" width=900px></center>"
   ]
  },
  {
   "cell_type": "markdown",
   "metadata": {
    "slideshow": {
     "slide_type": "subslide"
    }
   },
   "source": [
    "<center><img src=\"images/hidden_figures.jpg\" width=1000px></center>"
   ]
  },
  {
   "cell_type": "markdown",
   "metadata": {
    "slideshow": {
     "slide_type": "subslide"
    }
   },
   "source": [
    "## FORTRAN\n",
    "<center><img src=\"images/fortran_1.png\" width=1000px></center>"
   ]
  },
  {
   "cell_type": "markdown",
   "metadata": {
    "slideshow": {
     "slide_type": "subslide"
    }
   },
   "source": [
    "## Un caso real\n",
    "<center><img src=\"images/edos.png\" width=1000px></center>"
   ]
  },
  {
   "cell_type": "markdown",
   "metadata": {
    "slideshow": {
     "slide_type": "subslide"
    }
   },
   "source": [
    "### Existe la necesidad de programar\n"
   ]
  },
  {
   "cell_type": "markdown",
   "metadata": {
    "slideshow": {
     "slide_type": "fragment"
    }
   },
   "source": [
    "## no tenemos la herramienta adecuada"
   ]
  },
  {
   "cell_type": "markdown",
   "metadata": {
    "slideshow": {
     "slide_type": "fragment"
    }
   },
   "source": [
    "# hacen falta alternativas"
   ]
  },
  {
   "cell_type": "markdown",
   "metadata": {
    "slideshow": {
     "slide_type": "subslide"
    }
   },
   "source": [
    "## ¿cuál es la opción adecuada?\n",
    "<center><img src=\"images/programming-lang.jpg\" width=600px></center>"
   ]
  },
  {
   "cell_type": "markdown",
   "metadata": {
    "slideshow": {
     "slide_type": "subslide"
    }
   },
   "source": [
    "## ¿Por qué Python?\n",
    "\n",
    "* **Libre y gratuito**:\n",
    "  - Posibilidad de estudiar su funcionamiento y corregirlo o mejorarlo\n",
    "  - Sin restricciones para su uso o distribución, incluso para uso comercial\n",
    "\n",
    "* **Propósito general** pero con un ecosistema científico muy desarrollado\n",
    "\n",
    "* **Comunidad**\n",
    "\n",
    "* **Fácil de aprender**"
   ]
  },
  {
   "cell_type": "markdown",
   "metadata": {
    "slideshow": {
     "slide_type": "subslide"
    }
   },
   "source": [
    "Puede parecer una tontería, pero... \"Hola mundo\" es simplemente:"
   ]
  },
  {
   "cell_type": "code",
   "execution_count": 5,
   "metadata": {
    "slideshow": {
     "slide_type": "fragment"
    }
   },
   "outputs": [
    {
     "name": "stdout",
     "output_type": "stream",
     "text": [
      "Hola mundo\n"
     ]
    }
   ],
   "source": [
    "print('Hola mundo')"
   ]
  },
  {
   "cell_type": "markdown",
   "metadata": {
    "slideshow": {
     "slide_type": "subslide"
    }
   },
   "source": [
    "```java\n",
    "// My first program in Java\n",
    "public class HelloWorld {\n",
    "\n",
    "    public static void main(String[] args) {\n",
    "        // Prints \"Hello, World\" to the terminal window.\n",
    "        System.out.println(\"Hello, World\");\n",
    "    }\n",
    "\n",
    "}\n",
    "```"
   ]
  },
  {
   "cell_type": "markdown",
   "metadata": {
    "slideshow": {
     "slide_type": "subslide"
    }
   },
   "source": [
    "```c++\n",
    "// my first program in C++\n",
    "#include <iostream>\n",
    "\n",
    "int main()\n",
    "{\n",
    "  std::cout << \"Hello World!\";\n",
    "}\n",
    "```"
   ]
  },
  {
   "cell_type": "markdown",
   "metadata": {
    "slideshow": {
     "slide_type": "subslide"
    }
   },
   "source": [
    "```FORTRAN\n",
    "! My first program in Fortran\n",
    "program hello\n",
    "          print *, \"Hello World!\"\n",
    "end program hello\n",
    "```"
   ]
  },
  {
   "cell_type": "markdown",
   "metadata": {
    "slideshow": {
     "slide_type": "subslide"
    }
   },
   "source": [
    "## y nos pusimos manos a la obra\n",
    "<center><img src=\"images/PyConES-2014-Pybonacci-LD-3.jpg\" width=900px></center>"
   ]
  },
  {
   "cell_type": "markdown",
   "metadata": {
    "slideshow": {
     "slide_type": "subslide"
    }
   },
   "source": [
    "<center><img src=\"images/poster1.png\" width=900px></center>"
   ]
  },
  {
   "cell_type": "markdown",
   "metadata": {
    "slideshow": {
     "slide_type": "subslide"
    }
   },
   "source": [
    "<center><img src=\"images/course1.png\" width=900px></center>"
   ]
  },
  {
   "cell_type": "markdown",
   "metadata": {
    "slideshow": {
     "slide_type": "subslide"
    }
   },
   "source": [
    "<center><img src=\"images/meeting1.png\" width=900px></center>"
   ]
  },
  {
   "cell_type": "markdown",
   "metadata": {
    "slideshow": {
     "slide_type": "subslide"
    }
   },
   "source": [
    "# Y empezaron los primeros proyectos"
   ]
  },
  {
   "cell_type": "markdown",
   "metadata": {
    "slideshow": {
     "slide_type": "fragment"
    }
   },
   "source": [
    "## y siguieron los cursos"
   ]
  },
  {
   "cell_type": "markdown",
   "metadata": {
    "slideshow": {
     "slide_type": "fragment"
    }
   },
   "source": [
    "<center><img src=\"images/poster2.jpg\" width=300px></center>"
   ]
  },
  {
   "cell_type": "markdown",
   "metadata": {
    "slideshow": {
     "slide_type": "subslide"
    }
   },
   "source": [
    "## y empezaron las pycañas\n",
    "<center><img src=\"images/pycanas.jpg\" width=1000px></center>"
   ]
  },
  {
   "cell_type": "markdown",
   "metadata": {
    "slideshow": {
     "slide_type": "subslide"
    }
   },
   "source": [
    "## y seguimos trabajando\n",
    "<center><img src=\"images/projects.jpg\" width=1000px></center>"
   ]
  },
  {
   "cell_type": "markdown",
   "metadata": {
    "slideshow": {
     "slide_type": "subslide"
    }
   },
   "source": [
    "## y nos fuimos de conferencias de Python\n",
    "<center><img src=\"images/conferences.jpg\" width=1000px></center>\n",
    "## y conocimos a más ingenieros inquietos"
   ]
  },
  {
   "cell_type": "markdown",
   "metadata": {
    "slideshow": {
     "slide_type": "subslide"
    }
   },
   "source": [
    "## pero sin olvidar que es lo que nos gusta\n",
    "<center><img src=\"images/conferences2.jpg\" width=1000px></center>"
   ]
  },
  {
   "cell_type": "markdown",
   "metadata": {
    "slideshow": {
     "slide_type": "subslide"
    }
   },
   "source": [
    "## y crecieron las pycañas...\n",
    "<center><img src=\"images/pycanas2.jpg\" width=1000px></center>\n"
   ]
  },
  {
   "cell_type": "markdown",
   "metadata": {
    "slideshow": {
     "slide_type": "subslide"
    }
   },
   "source": [
    "## En definitiva\n",
    "\n",
    "* Hemos dado cursos:\n",
    "    - para estudiantes de Ingeniería Aeroespacial en UPM, UC3M, URJC\n",
    "    - para Ingenieros Químicos en Universidad de Alicante\n",
    "    - en Intitutos de Investigación: Harbour Research Lab (UPM), Instituto de Hidráhulica de Cantabria.\n",
    "    - en empresas\n",
    "    "
   ]
  },
  {
   "cell_type": "markdown",
   "metadata": {
    "slideshow": {
     "slide_type": "fragment"
    }
   },
   "source": [
    "* Vamos a conferencias y Meetups"
   ]
  },
  {
   "cell_type": "markdown",
   "metadata": {
    "slideshow": {
     "slide_type": "fragment"
    }
   },
   "source": [
    " * Desarrollamos proyectos relacionados con temas aeroespaciales"
   ]
  },
  {
   "cell_type": "markdown",
   "metadata": {
    "slideshow": {
     "slide_type": "subslide"
    }
   },
   "source": [
    "# ¡y nos encanta todo esto!"
   ]
  },
  {
   "cell_type": "markdown",
   "metadata": {
    "slideshow": {
     "slide_type": "fragment"
    }
   },
   "source": [
    "### pero...\n",
    "## ¿por qué debería interesarte a ti la programación?"
   ]
  },
  {
   "cell_type": "markdown",
   "metadata": {
    "slideshow": {
     "slide_type": "slide"
    }
   },
   "source": [
    "# La programación para un Ingeniero/a Aeroespacial"
   ]
  },
  {
   "cell_type": "markdown",
   "metadata": {
    "slideshow": {
     "slide_type": "subslide"
    }
   },
   "source": [
    "\"Engineering is the application of mathematics, science, economics, and social and practical knowledge to invent, \n",
    "innovate, design, build, maintain, research, and improve structures, machines, tools, systems, components, materials, processes, \n",
    "solutions, and organizations.\"\n",
    "<h6 align=\"right\">__Fuente:__ _Wikipedia_"
   ]
  },
  {
   "cell_type": "markdown",
   "metadata": {
    "slideshow": {
     "slide_type": "fragment"
    }
   },
   "source": [
    "<center><img src=\"images/problem_solving.jpg\" width=400px></center>"
   ]
  },
  {
   "cell_type": "markdown",
   "metadata": {
    "slideshow": {
     "slide_type": "subslide"
    }
   },
   "source": [
    "## ¿Cómo puede ayudarte la programación durante la carrera?"
   ]
  },
  {
   "cell_type": "markdown",
   "metadata": {
    "slideshow": {
     "slide_type": "fragment"
    }
   },
   "source": [
    "<center><img src=\"images/birrete.png\" width=400px></center>"
   ]
  },
  {
   "cell_type": "markdown",
   "metadata": {
    "slideshow": {
     "slide_type": "subslide"
    }
   },
   "source": [
    "* Conceptos teóricos."
   ]
  },
  {
   "cell_type": "markdown",
   "metadata": {
    "slideshow": {
     "slide_type": "fragment"
    }
   },
   "source": [
    "* Trabajos."
   ]
  },
  {
   "cell_type": "markdown",
   "metadata": {
    "slideshow": {
     "slide_type": "fragment"
    }
   },
   "source": [
    "* Prácticas."
   ]
  },
  {
   "cell_type": "markdown",
   "metadata": {
    "slideshow": {
     "slide_type": "fragment"
    }
   },
   "source": [
    "* Planteamiento y resolución de problemas."
   ]
  },
  {
   "cell_type": "markdown",
   "metadata": {
    "slideshow": {
     "slide_type": "subslide"
    }
   },
   "source": [
    "### Perfil de Yukovski"
   ]
  },
  {
   "cell_type": "markdown",
   "metadata": {
    "slideshow": {
     "slide_type": "fragment"
    }
   },
   "source": [
    "<center><img src=\"images/transf_yukovski.png\" width=600px></center>\n",
    "\n",
    "<h6 align=\"center\">__Fuente:__ _Aerodinámica básica, Meseguer Ruiz, J., Sanz Andrés, A._<div>"
   ]
  },
  {
   "cell_type": "markdown",
   "metadata": {
    "slideshow": {
     "slide_type": "fragment"
    }
   },
   "source": [
    "<center><img src=\"images/perfil_yukovski.png\" width=600px></center>"
   ]
  },
  {
   "cell_type": "code",
   "execution_count": 2,
   "metadata": {
    "slideshow": {
     "slide_type": "skip"
    }
   },
   "outputs": [
    {
     "name": "stderr",
     "output_type": "stream",
     "text": [
      "C:\\Users\\mabel\\mytools\\Anaconda3\\envs\\talk_s3_2017\\lib\\site-packages\\IPython\\html.py:14: ShimWarning: The `IPython.html` package has been deprecated since IPython 4.0. You should import from `notebook` instead. `IPython.html.widgets` has moved to `ipywidgets`.\n",
      "  \"`IPython.html.widgets` has moved to `ipywidgets`.\", ShimWarning)\n"
     ]
    }
   ],
   "source": [
    "%matplotlib inline\n",
    "import numpy as np\n",
    "import matplotlib.pyplot as plt\n",
    "from IPython.html.widgets import interact"
   ]
  },
  {
   "cell_type": "code",
   "execution_count": 3,
   "metadata": {
    "slideshow": {
     "slide_type": "skip"
    }
   },
   "outputs": [],
   "source": [
    "def transf_yukovski(a, t):\n",
    "    \"\"\"Dado el punto t (complejo) y el parámetro a\n",
    "    a de la transformación proporciona el punto\n",
    "    tau (complejo) en el que se transforma t.\"\"\"\n",
    "    tau = t + a ** 2 / t\n",
    "    return tau"
   ]
  },
  {
   "cell_type": "code",
   "execution_count": 4,
   "metadata": {
    "slideshow": {
     "slide_type": "skip"
    }
   },
   "outputs": [],
   "source": [
    "def transformacion_geometrica(a, landa, delta, N_perfil=100):\n",
    "    #punto del plano complejo\n",
    "    t0 = a * (-landa + delta * 1j)\n",
    "    #valor del radio de la circunferencia\n",
    "    R = a * np.sqrt((1 + landa)**2 + delta**2)\n",
    "    #se barre un ángulo de 0 a 2 pi\n",
    "    theta = np.linspace(0, 2*np.pi, N_perfil)\n",
    "    #se crean las coordenadas del los puntos\n",
    "    #de la circunferencia\n",
    "    Xc = - a * landa + R * np.cos(theta)\n",
    "    Yc =   a * delta + R * np.sin(theta)\n",
    "    #se crean las coordenadas del los puntos\n",
    "    #del perfil\n",
    "    Puntos_perfil = transf_yukovski(a, Xc+Yc*1j)\n",
    "    Xp, Yp = np.real(Puntos_perfil) , np.imag(Puntos_perfil)\n",
    "    \n",
    "    #Se pintan la cirunferencia y el perfil\n",
    "    fig, ax = plt.subplots(1,2)\n",
    "    fig.set_size_inches(15,15)\n",
    "    p_c = plt.Polygon(list(zip(Xc, Yc)), color=\"#cccccc\", zorder=1)\n",
    "    ax[0].add_patch(p_c)\n",
    "    ax[0].plot(Xc,Yc)\n",
    "    ax[0].set_aspect(1)\n",
    "    ax[0].set_xlim(-3, 3)\n",
    "    ax[0].set_ylim(-2,2)\n",
    "    ax[0].grid()\n",
    "    \n",
    "    p_p = plt.Polygon(list(zip(Xp, Yp)), color=\"#cccccc\", zorder=1)\n",
    "    ax[1].add_patch(p_p)\n",
    "    ax[1].plot(Xp,Yp)\n",
    "    ax[1].set_aspect(1)\n",
    "\n",
    "    ax[1].set_xlim(-3, 3)\n",
    "    ax[1].set_ylim(-2,2)\n",
    "    ax[1].grid()\n",
    "    \n",
    "    plt.show()"
   ]
  },
  {
   "cell_type": "code",
   "execution_count": 5,
   "metadata": {
    "slideshow": {
     "slide_type": "subslide"
    }
   },
   "outputs": [
    {
     "data": {
      "application/vnd.jupyter.widget-view+json": {
       "model_id": "2d8dd9f8e59049dba7e8018e3ad52029",
       "version_major": 2,
       "version_minor": 0
      },
      "text/html": [
       "<p>Failed to display Jupyter Widget of type <code>interactive</code>.</p>\n",
       "<p>\n",
       "  If you're reading this message in the Jupyter Notebook or JupyterLab Notebook, it may mean\n",
       "  that the widgets JavaScript is still loading. If this message persists, it\n",
       "  likely means that the widgets JavaScript library is either not installed or\n",
       "  not enabled. See the <a href=\"https://ipywidgets.readthedocs.io/en/stable/user_install.html\">Jupyter\n",
       "  Widgets Documentation</a> for setup instructions.\n",
       "</p>\n",
       "<p>\n",
       "  If you're reading this message in another frontend (for example, a static\n",
       "  rendering on GitHub or <a href=\"https://nbviewer.jupyter.org/\">NBViewer</a>),\n",
       "  it may mean that your frontend doesn't currently support widgets.\n",
       "</p>\n"
      ],
      "text/plain": [
       "interactive(children=(FloatSlider(value=1.0, description='a', max=2.0), FloatSlider(value=0.0, description='landa', max=1.0, min=-1.0, step=0.01), FloatSlider(value=0.0, description='delta', max=1.0, min=-1.0, step=0.01), IntSlider(value=100, description='N_perfil', max=200, min=4), Output()), _dom_classes=('widget-interact',))"
      ]
     },
     "metadata": {},
     "output_type": "display_data"
    }
   ],
   "source": [
    "w = interact(transformacion_geometrica, landa=(-1.,1, 0.01), delta=(-1.,1,0.01), \n",
    "             a=(0,2.,0.1), N_perfil=(4, 200) );"
   ]
  },
  {
   "cell_type": "code",
   "execution_count": 6,
   "metadata": {
    "slideshow": {
     "slide_type": "skip"
    }
   },
   "outputs": [],
   "source": [
    "def flujo_perfil_circunferencia(landa, delta, alfa, U=1,  N_malla = 100):\n",
    "    N_perfil=100\n",
    "    a=1\n",
    "    #punto del plano complejo\n",
    "    t0 = a * (-landa + delta * 1j)\n",
    "    #valor del radio de la circunferencia\n",
    "    R = a * np.sqrt((1 + landa)**2 + delta**2)\n",
    "\n",
    "    #se barre un ángulo de 0 a 2 pi\n",
    "    theta = np.linspace(0, 2*np.pi, N_perfil)\n",
    "    #se crean las coordenadas del los puntos\n",
    "    #de la circunferencia\n",
    "    Xc = - a * landa + R * np.cos(theta)\n",
    "    Yc =   a * delta + R * np.sin(theta)\n",
    "    \n",
    "    #se crean las coordenadas del los puntos\n",
    "    #del perfil\n",
    "    Puntos_perfil = transf_yukovski(a, Xc+Yc*1j)\n",
    "    Xp, Yp = np.real(Puntos_perfil) , np.imag(Puntos_perfil)\n",
    "    \n",
    "    #se crea la malla donde se va pintar la función de corriente\n",
    "\n",
    "    # Dirección radial\n",
    "    N_R = 50   # Número de puntos en la dirección radial\n",
    "    R_min = R\n",
    "    R_max = 10\n",
    "\n",
    "    # Dirección tangencial\n",
    "    N_T = 180   # Número de puntos en la dirección tangencial\n",
    "\n",
    "    R_ = np.linspace(R_min, R_max, N_R)\n",
    "    T_ = np.linspace(0, 2*np.pi , N_T)\n",
    "\n",
    "    # El menos en la XX  es para que el borde de ataque del perfil esté en la izquierda\n",
    "    XX = - (R_ * np.cos(T_).reshape((-1, 1)) - np.real(t0))\n",
    "    YY = R_ * np.sin(T_).reshape((-1, 1)) + np.imag(t0)\n",
    "    \n",
    "    tt = XX + YY * 1j\n",
    "    \n",
    "    alfa = np.deg2rad(alfa)\n",
    "    # Circulación que hay que añadir al cilindro para\n",
    "    # que se cumpla la hipótesis de Kutta en el perfil\n",
    "    T = 4 * np.pi * a * U * (delta + (1+landa) * alfa)\n",
    "    #Potencial complejo\n",
    "    f = U * ( (tt - t0) * np.exp(-alfa *1j) + R**2 / (tt - t0) * np.exp(alfa * 1j) )\n",
    "    f += 1j * T / (2* np.pi) * np.log(tt - t0)\n",
    "    #Función de corriente\n",
    "    psi = np.imag(f)   \n",
    "\n",
    "    Puntos_plano_tau = transf_yukovski(a, tt)\n",
    "    XX_tau, YY_tau = np.real(Puntos_plano_tau) , np.imag(Puntos_plano_tau)\n",
    "                \n",
    "    #Se pinta\n",
    "    fig, ax = plt.subplots(1,2)\n",
    "    #lineas de corriente\n",
    "    fig.set_size_inches(15,15)\n",
    "    \n",
    "    ax[0].contour(XX, YY, psi, np.linspace(-10,10,50), colors = ['blue', 'blue'])\n",
    "    ax[0].grid()\n",
    "    ax[0].set_aspect(1)\n",
    "    p = plt.Polygon(list(zip(Xc, Yc)), color=\"#cccccc\", zorder=10)\n",
    "    ax[0].add_patch(p)\n",
    "    ax[0].set_xlim(-5, 5)\n",
    "    ax[0].set_ylim(-2,2)\n",
    "    \n",
    "    ax[1].contour(XX_tau, YY_tau, psi, np.linspace(-10,10,50), colors = ['blue', 'blue'])\n",
    "    ax[1].grid()\n",
    "    ax[1].set_aspect(1)\n",
    "    p = plt.Polygon(list(zip(Xp, Yp)), color=\"#cccccc\", zorder=10)\n",
    "    ax[1].add_patch(p)\n",
    "    ax[1].set_xlim(-5, 5)\n",
    "    ax[1].set_ylim(-2,2)\n",
    "    \n",
    "    plt.show()"
   ]
  },
  {
   "cell_type": "code",
   "execution_count": 7,
   "metadata": {
    "slideshow": {
     "slide_type": "subslide"
    }
   },
   "outputs": [
    {
     "data": {
      "application/vnd.jupyter.widget-view+json": {
       "model_id": "3768be30396244d1bb5aef568e842b0e",
       "version_major": 2,
       "version_minor": 0
      },
      "text/html": [
       "<p>Failed to display Jupyter Widget of type <code>interactive</code>.</p>\n",
       "<p>\n",
       "  If you're reading this message in the Jupyter Notebook or JupyterLab Notebook, it may mean\n",
       "  that the widgets JavaScript is still loading. If this message persists, it\n",
       "  likely means that the widgets JavaScript library is either not installed or\n",
       "  not enabled. See the <a href=\"https://ipywidgets.readthedocs.io/en/stable/user_install.html\">Jupyter\n",
       "  Widgets Documentation</a> for setup instructions.\n",
       "</p>\n",
       "<p>\n",
       "  If you're reading this message in another frontend (for example, a static\n",
       "  rendering on GitHub or <a href=\"https://nbviewer.jupyter.org/\">NBViewer</a>),\n",
       "  it may mean that your frontend doesn't currently support widgets.\n",
       "</p>\n"
      ],
      "text/plain": [
       "interactive(children=(FloatSlider(value=0.5, description='landa', max=1.0), FloatSlider(value=0.5, description='delta', max=1.0), IntSlider(value=15, description='alfa', max=30), IntSlider(value=1, description='U', max=10), IntSlider(value=100, description='N_malla', max=300, min=-100), Output()), _dom_classes=('widget-interact',))"
      ]
     },
     "metadata": {},
     "output_type": "display_data"
    }
   ],
   "source": [
    "p = interact(flujo_perfil_circunferencia, landa=(0.,1), delta=(0.,1), alfa=(0, 30), U=(0,10));"
   ]
  },
  {
   "cell_type": "code",
   "execution_count": 8,
   "metadata": {
    "slideshow": {
     "slide_type": "skip"
    }
   },
   "outputs": [],
   "source": [
    "def cp_perfil_circunferencia(landa, delta, alfa, U=1,  N_malla = 100):\n",
    "    N_perfil=100\n",
    "    a=1\n",
    "    #punto del plano complejo\n",
    "    t0 = a * (-landa + delta * 1j)\n",
    "    #valor del radio de la circunferencia\n",
    "    R = a * np.sqrt((1 + landa)**2 + delta**2)\n",
    "\n",
    "    #se barre un ángulo de 0 a 2 pi\n",
    "    theta = np.linspace(0, 2*np.pi, N_perfil)\n",
    "    #se crean las coordenadas del los puntos\n",
    "    #de la circunferencia\n",
    "    Xc = - a * landa + R * np.cos(theta)\n",
    "    Yc =   a * delta + R * np.sin(theta)\n",
    "    \n",
    "    #se crean las coordenadas del los puntos\n",
    "    #del perfil\n",
    "    Puntos_perfil = transf_yukovski(a, Xc+Yc*1j)\n",
    "    Xp, Yp = np.real(Puntos_perfil) , np.imag(Puntos_perfil)\n",
    "    \n",
    "    #se crea la malla donde se va pintar la función de corriente\n",
    "\n",
    "    # Dirección radial\n",
    "    N_R = 50   # Número de puntos en la dirección radial\n",
    "    R_min = R\n",
    "    R_max = 10\n",
    "\n",
    "    # Dirección tangencial\n",
    "    N_T = 180   # Número de puntos en la dirección tangencial\n",
    "\n",
    "    R_ = np.linspace(R_min, R_max, N_R)\n",
    "    T_ = np.linspace(0, 2*np.pi, N_T)\n",
    "\n",
    "    # El menos en la XX  es para que el borde de ataque del perfil esté en la izquierda\n",
    "    XX = - (R_ * np.cos(T_).reshape((-1, 1)) - np.real(t0))\n",
    "    YY = R_ * np.sin(T_).reshape((-1, 1)) + np.imag(t0)\n",
    "    \n",
    "    tt = XX + YY * 1j\n",
    "    \n",
    "    alfa = np.deg2rad(alfa)\n",
    "    # Circulación que hay que añadir al cilindro para\n",
    "    # que se cumpla la hipótesis de Kutta en el perfil\n",
    "    T = 4 * np.pi * a * U * (delta + (1+landa) * alfa)\n",
    "    \n",
    "    #Velocidad conjugada\n",
    "    dfdt = U * ( 1 * np.exp(-alfa * 1j) - R**2 / (tt - t0)**2 * np.exp(alfa * 1j) )\n",
    "    dfdt = dfdt + 1j * T / (2*np.pi) * 1 / (tt - t0)\n",
    "    #coeficiente de presion\n",
    "    cp = 1 - np.abs(dfdt)**2 / U**2\n",
    "\n",
    "    Puntos_plano_tau = transf_yukovski(a, tt)\n",
    "    XX_tau, YY_tau = np.real(Puntos_plano_tau) , np.imag(Puntos_plano_tau)\n",
    "                \n",
    "    #Se pinta\n",
    "    fig, ax = plt.subplots(1,2)\n",
    "    \n",
    "    #coeficiente de presión\n",
    "    fig.set_size_inches(15,15)\n",
    "    \n",
    "    ax[0].contourf(XX, YY, cp, 200, cmap=plt.cm.RdBu)\n",
    "    ax[0].grid()\n",
    "    ax[0].set_aspect(1)\n",
    "    p = plt.Polygon(list(zip(Xc, Yc)), color=\"#cccccc\", zorder=10)\n",
    "    ax[0].add_patch(p)\n",
    "    ax[0].set_xlim(-5, 5)\n",
    "    ax[0].set_ylim(-3,3)\n",
    "    \n",
    "    ax[1].contourf(XX_tau, YY_tau, cp, 200, cmap=plt.cm.RdBu)\n",
    "    ax[1].grid()\n",
    "    ax[1].set_aspect(1)\n",
    "    p = plt.Polygon(list(zip(Xp, Yp)), color=\"#cccccc\", zorder=10)\n",
    "    ax[1].add_patch(p)\n",
    "    ax[1].set_xlim(-5, 5)\n",
    "    ax[1].set_ylim(-3,3)\n",
    "    \n",
    "    plt.show()"
   ]
  },
  {
   "cell_type": "code",
   "execution_count": 9,
   "metadata": {
    "slideshow": {
     "slide_type": "subslide"
    }
   },
   "outputs": [
    {
     "data": {
      "application/vnd.jupyter.widget-view+json": {
       "model_id": "e8bcd9f54105466fa569f19f54372aa6",
       "version_major": 2,
       "version_minor": 0
      },
      "text/html": [
       "<p>Failed to display Jupyter Widget of type <code>interactive</code>.</p>\n",
       "<p>\n",
       "  If you're reading this message in the Jupyter Notebook or JupyterLab Notebook, it may mean\n",
       "  that the widgets JavaScript is still loading. If this message persists, it\n",
       "  likely means that the widgets JavaScript library is either not installed or\n",
       "  not enabled. See the <a href=\"https://ipywidgets.readthedocs.io/en/stable/user_install.html\">Jupyter\n",
       "  Widgets Documentation</a> for setup instructions.\n",
       "</p>\n",
       "<p>\n",
       "  If you're reading this message in another frontend (for example, a static\n",
       "  rendering on GitHub or <a href=\"https://nbviewer.jupyter.org/\">NBViewer</a>),\n",
       "  it may mean that your frontend doesn't currently support widgets.\n",
       "</p>\n"
      ],
      "text/plain": [
       "interactive(children=(FloatSlider(value=0.5, description='landa', max=1.0), FloatSlider(value=0.5, description='delta', max=1.0), IntSlider(value=15, description='alfa', max=30), IntSlider(value=1, description='U', max=10), IntSlider(value=100, description='N_malla', max=300, min=-100), Output()), _dom_classes=('widget-interact',))"
      ]
     },
     "metadata": {},
     "output_type": "display_data"
    }
   ],
   "source": [
    "interact(cp_perfil_circunferencia, landa=(0.,1), delta=(0.,1), alfa=(0, 30), U=(0,10));"
   ]
  },
  {
   "cell_type": "markdown",
   "metadata": {
    "slideshow": {
     "slide_type": "subslide"
    }
   },
   "source": [
    "## ¿Cómo puede ayudarte la programación para encontrar trabajo?"
   ]
  },
  {
   "cell_type": "markdown",
   "metadata": {
    "slideshow": {
     "slide_type": "fragment"
    }
   },
   "source": [
    "<center><img src=\"images/interview.jpg\" width=400px></center>"
   ]
  },
  {
   "cell_type": "markdown",
   "metadata": {
    "slideshow": {
     "slide_type": "subslide"
    }
   },
   "source": [
    "* Perfil más fuerte."
   ]
  },
  {
   "cell_type": "markdown",
   "metadata": {
    "slideshow": {
     "slide_type": "fragment"
    }
   },
   "source": [
    "* Diferentes sectores."
   ]
  },
  {
   "cell_type": "markdown",
   "metadata": {
    "slideshow": {
     "slide_type": "fragment"
    }
   },
   "source": [
    "* Diferentes trabajos."
   ]
  },
  {
   "cell_type": "markdown",
   "metadata": {
    "slideshow": {
     "slide_type": "fragment"
    }
   },
   "source": [
    "* Visibilidad."
   ]
  },
  {
   "cell_type": "markdown",
   "metadata": {
    "slideshow": {
     "slide_type": "subslide"
    }
   },
   "source": [
    "## Y una vez que tengo trabajo..."
   ]
  },
  {
   "cell_type": "markdown",
   "metadata": {
    "slideshow": {
     "slide_type": "fragment"
    }
   },
   "source": [
    "<center><img src=\"images/time.jpg\" width=400px></center><div>"
   ]
  },
  {
   "cell_type": "markdown",
   "metadata": {
    "slideshow": {
     "slide_type": "subslide"
    }
   },
   "source": [
    "* Automatización de tareas."
   ]
  },
  {
   "cell_type": "markdown",
   "metadata": {
    "slideshow": {
     "slide_type": "fragment"
    }
   },
   "source": [
    "* Manejo de datos."
   ]
  },
  {
   "cell_type": "markdown",
   "metadata": {
    "slideshow": {
     "slide_type": "fragment"
    }
   },
   "source": [
    "* Visualización."
   ]
  },
  {
   "cell_type": "markdown",
   "metadata": {
    "slideshow": {
     "slide_type": "fragment"
    }
   },
   "source": [
    "* Optimización."
   ]
  },
  {
   "cell_type": "markdown",
   "metadata": {
    "slideshow": {
     "slide_type": "fragment"
    }
   },
   "source": [
    "* Tests."
   ]
  },
  {
   "cell_type": "markdown",
   "metadata": {
    "slideshow": {
     "slide_type": "subslide"
    }
   },
   "source": [
    "## En conclusión"
   ]
  },
  {
   "cell_type": "markdown",
   "metadata": {
    "slideshow": {
     "slide_type": "fragment"
    }
   },
   "source": [
    "<center><img src=\"images/take_off.jpg\" width=600px></center>"
   ]
  },
  {
   "cell_type": "markdown",
   "metadata": {
    "slideshow": {
     "slide_type": "subslide"
    }
   },
   "source": [
    "```PYTHON\n",
    "import antigravity\n",
    "```"
   ]
  },
  {
   "cell_type": "markdown",
   "metadata": {
    "slideshow": {
     "slide_type": "fragment"
    }
   },
   "source": [
    "<center><img src=\"images/antigravity.png\" width=450px></center>\n",
    "\n",
    "<div style=\"text-align: center\"> Fuente: XKCD </div>"
   ]
  },
  {
   "cell_type": "markdown",
   "metadata": {
    "slideshow": {
     "slide_type": "slide"
    }
   },
   "source": [
    "# ¿Qué hacemos en AeroPython?"
   ]
  },
  {
   "cell_type": "markdown",
   "metadata": {
    "slideshow": {
     "slide_type": "subslide"
    }
   },
   "source": [
    "\n",
    "<center><img src=\"images/poliastro_logo.png\" width=500px></center>"
   ]
  },
  {
   "cell_type": "markdown",
   "metadata": {
    "slideshow": {
     "slide_type": "subslide"
    }
   },
   "source": [
    "Poliastro es un paquete de Python programado principalmente por Juan Luis Cano, el Aeropythonero Primigenio. \n",
    "\n",
    "El objetivo es tener un paquete totalmente en Python capaz de hacer cálculos astrodinámicos en un tiempo razonable.\n",
    "\n",
    "Podemos echar un vistazo a su documentación... http://docs.poliastro.space/en/latest/\n",
    "\n",
    "Además, este año participó en el Summer of Code de la Agencia Espacial Europea (SOCIS), un programa parecido al de Google que otorga becas a estudiantes para desarrollar código abierto en verano."
   ]
  },
  {
   "cell_type": "markdown",
   "metadata": {
    "slideshow": {
     "slide_type": "slide"
    }
   },
   "source": [
    "## Analizando una base de datos de seguridad aérea"
   ]
  },
  {
   "cell_type": "markdown",
   "metadata": {
    "slideshow": {
     "slide_type": "subslide"
    }
   },
   "source": [
    "Python dispone de numerosas herramientas para analizar, modelizar y representar datos:\n",
    "\n",
    "- Pandas\n",
    "- Matplotlib\n",
    "- Bokeh\n",
    "- Scikit-learn\n",
    "- ..."
   ]
  },
  {
   "cell_type": "markdown",
   "metadata": {
    "slideshow": {
     "slide_type": "subslide"
    }
   },
   "source": [
    "<center><img src=\"images/ntsb.jpg\" width=200px></center>"
   ]
  },
  {
   "cell_type": "markdown",
   "metadata": {
    "slideshow": {
     "slide_type": "subslide"
    }
   },
   "source": [
    "<center><img src=\"images/safety_1.png\" width=900px></center>"
   ]
  },
  {
   "cell_type": "markdown",
   "metadata": {
    "slideshow": {
     "slide_type": "subslide"
    }
   },
   "source": [
    "<center><img src=\"images/safety_3.png\" width=900px></center>"
   ]
  },
  {
   "cell_type": "markdown",
   "metadata": {
    "slideshow": {
     "slide_type": "subslide"
    }
   },
   "source": [
    "<center><img src=\"images/safety_2.png\" width=700px></center>"
   ]
  },
  {
   "cell_type": "markdown",
   "metadata": {
    "slideshow": {
     "slide_type": "subslide"
    }
   },
   "source": [
    "<center><img src=\"images/safety_5.png\" width=700px></center>"
   ]
  },
  {
   "cell_type": "markdown",
   "metadata": {
    "slideshow": {
     "slide_type": "subslide"
    }
   },
   "source": [
    "<center><img src=\"images/safety_4.png\" width=700px></center>"
   ]
  },
  {
   "cell_type": "markdown",
   "metadata": {
    "slideshow": {
     "slide_type": "slide"
    }
   },
   "source": [
    "## `PyFME`\n",
    ".\n",
    "\n",
    "<center><img src=\"images/pyfme_logo.png\" width=300px></center>"
   ]
  },
  {
   "cell_type": "markdown",
   "metadata": {
    "slideshow": {
     "slide_type": "subslide"
    }
   },
   "source": [
    "# Python Flight Mechanics Engine\n",
    "\n",
    "Objetivos:\n",
    "\n",
    "* Desarrollar un motor de Dinámica de Vuelo\n",
    "* Que incluya múltiples aeronaves con diferenctes modelos aerodinámicos\n",
    "* Que permita utilizar distintos sistemas dinámicos\n",
    "* Estudios numéricos\n",
    "* Teoría de Control: AP, SAS...\n",
    "* Interactuar con algún motor gráfico"
   ]
  },
  {
   "cell_type": "markdown",
   "metadata": {
    "slideshow": {
     "slide_type": "subslide"
    }
   },
   "source": [
    "### De momento\n",
    "\n",
    "Sentando unas bases sólidas y validadas"
   ]
  },
  {
   "cell_type": "markdown",
   "metadata": {
    "slideshow": {
     "slide_type": "fragment"
    }
   },
   "source": [
    "<center><img src=\"images/elevator.png\" width=1000px></center>"
   ]
  },
  {
   "cell_type": "markdown",
   "metadata": {
    "slideshow": {
     "slide_type": "subslide"
    }
   },
   "source": [
    "<center><img src=\"images/longitudinal_modes1.png\" width=1000px></center>"
   ]
  },
  {
   "cell_type": "markdown",
   "metadata": {
    "slideshow": {
     "slide_type": "subslide"
    }
   },
   "source": [
    "<center><img src=\"images/longitudinal_modes2.png\" width=1000px></center>"
   ]
  },
  {
   "cell_type": "markdown",
   "metadata": {
    "slideshow": {
     "slide_type": "subslide"
    }
   },
   "source": [
    "<center><img src=\"images/longitudinal_modes3.png\" width=600px></center>"
   ]
  },
  {
   "cell_type": "markdown",
   "metadata": {
    "slideshow": {
     "slide_type": "slide"
    }
   },
   "source": [
    "### Si te ha gustado todo esto"
   ]
  },
  {
   "cell_type": "markdown",
   "metadata": {
    "slideshow": {
     "slide_type": "fragment"
    }
   },
   "source": [
    "## te motiva tener más herramientas y oportunidades a tu alcance"
   ]
  },
  {
   "cell_type": "markdown",
   "metadata": {
    "slideshow": {
     "slide_type": "fragment"
    }
   },
   "source": [
    "# ¡anímate a participar!"
   ]
  },
  {
   "cell_type": "markdown",
   "metadata": {
    "slideshow": {
     "slide_type": "subslide"
    }
   },
   "source": [
    "# ¿Qué necesitas?\n",
    "\n",
    "*  Interés por la programación (no hacen falta conocimiento previos de Python)\n",
    "*  Ganas poner en práctica tus conocimientos de Ingeniería"
   ]
  },
  {
   "cell_type": "markdown",
   "metadata": {
    "slideshow": {
     "slide_type": "subslide"
    }
   },
   "source": [
    "# ¿En qué podría ayudaros si todavía no sé mucho?\n",
    "\n",
    "* Organiza un curso, habla con tu delegación, háznoslo saber\n",
    "* En los proyectos:\n",
    "  - casos de test\n",
    "  - documentación\n",
    "  - artículos de blog\n",
    "  - implementación de modelos sencillos\n",
    "  - ¿tienes una idea? nuevos proyectos "
   ]
  },
  {
   "cell_type": "markdown",
   "metadata": {
    "slideshow": {
     "slide_type": "slide"
    }
   },
   "source": [
    "# Contacto\n",
    "\n",
    "* Telegram: https://t.me/AeroPython\n",
    "* Twitter: https://twitter.com/aeropython\n",
    "* GitHub: https://github.com/aeropython\n",
    "* Email: aeropython@gmail.com\n",
    "* ¡Acércate y pregúntanos!"
   ]
  },
  {
   "cell_type": "markdown",
   "metadata": {
    "slideshow": {
     "slide_type": "slide"
    }
   },
   "source": [
    " \n",
    "# ¡Muchas gracias!\n",
    "\n",
    "<center><img src=\"images/cover.png\" width=1000px></center>\n",
    "\n",
    "###### Mabel Delgado, Jesús Martos, Siro Moreno, Alejandro Sáez"
   ]
  },
  {
   "cell_type": "code",
   "execution_count": 1,
   "metadata": {
    "slideshow": {
     "slide_type": "skip"
    }
   },
   "outputs": [
    {
     "data": {
      "text/html": [
       "<link href='http://fonts.googleapis.com/css?family=Source+Sans+Pro|Josefin+Sans:400,700,400italic|Ubuntu+Condensed' rel='stylesheet' type='text/css'>\n",
       "\n",
       "\n",
       "<style>\n",
       "\n",
       "#notebook_panel { /* main background */\n",
       "    background: #f7f7f7;\n",
       "}\n",
       "\n",
       "#notebook li { /* More space between bullet points */\n",
       "    margin-top:0.5em;\n",
       "}\n",
       "\n",
       "div.cell { /* set cell width */\n",
       "    width: 900px;\n",
       "}\n",
       "\n",
       "div #notebook { /* centre the content */\n",
       "    background: #fff; /* white background for content */\n",
       "    width: 1000px;\n",
       "    margin: auto;\n",
       "    padding-left: 0em;\n",
       "}\n",
       "\n",
       "/* Put a solid color box around each cell and its output, visually linking them*/\n",
       "div.cell.code_cell {\n",
       "    font-family: 'Source Sans Pro', sans-serif;\n",
       "    width: 900px;\n",
       "}\n",
       "\n",
       "div.text_cell_render{\n",
       "    font-family: 'Josefin Sans', serif;\n",
       "    font-size: 18pt;\n",
       "}\n",
       "\n",
       "\n",
       "/* Formatting for header cells */\n",
       ".text_cell_render h1, .text_cell_render h2, .text_cell_render h3,\n",
       ".text_cell_render h4, .text_cell_render h5 {\n",
       "    font-family: 'Ubuntu Condensed', sans-serif;\n",
       "}\n",
       "\n",
       ".text_cell_render h1 {    /*Use this for Title*/\n",
       "    font-weight: 500;\n",
       "    font-size: 38pt;\n",
       "    line-height: 100%;\n",
       "    color: #004E8D;\n",
       "    text-align: center;\n",
       "    margin-bottom: 0.1em;\n",
       "    margin-top: 0.3em;\n",
       "    display: block;\n",
       "}\n",
       "\n",
       ".text_cell_render h2 {    /*Use this for Subtitle*/\n",
       "    margin-top:16px;\n",
       "    font-size: 32pt;\n",
       "    font-weight: 500;\n",
       "    margin-bottom: 0.1em;\n",
       "    margin-top: 0.3em;\n",
       "    text-align: center;\n",
       "    font-style: regular;\n",
       "    color: #252525;\n",
       "}\t\n",
       "\n",
       ".text_cell_render h3 {   /*Date*/ \n",
       "    font-size: 26pt;\n",
       "    font-weight: 200;\n",
       "    text-align: center;\n",
       "    margin-bottom: 0.1em;\n",
       "    margin-top: 0.3em;\n",
       "    font-style: regular;\n",
       "    color:  #252525;\n",
       "}\n",
       "\n",
       ".text_cell_render h4 {    /*Sections*/ \n",
       "    font-size: 28pt;\n",
       "    font-weight: 200;\n",
       "    text-align: left;\n",
       "    margin-bottom: 0.1em;\n",
       "    margin-top: 0.3em;\n",
       "    font-style: regular;\n",
       "    color:  #252525;\n",
       "}\n",
       "\n",
       ".text_cell_render h5 {    /*Subsections*/\n",
       "    font-size: 20pt;\n",
       "    font-weight: 300;\n",
       "    font-style: italic;\n",
       "    margin-bottom: .1em;\n",
       "    margin-top: 0.8em;\n",
       "    display: block;\n",
       "    color:  #004E8D;\n",
       "}\n",
       "\n",
       ".text_cell_render h6 {    /*Author*/\n",
       "    font-family: 'Ubuntu Condensed', sans-serif;\n",
       "    font-weight: 100;\n",
       "    font-size: 17pt;\n",
       "    line-height: 100%;\n",
       "    color: #AC4811;\n",
       "    text-align: right;\n",
       "    margin-bottom: 1px;\n",
       "    margin-top: 3px;\n",
       "}\n",
       "\n",
       ".CodeMirror{\n",
       "        font-family: 'Duru Sans', sans-serif;\n",
       "        font-size: 100%;\n",
       "}\n",
       "\n",
       "</style>\n",
       "<script>\n",
       "    MathJax.Hub.Config({\n",
       "                        TeX: {\n",
       "                           extensions: [\"AMSmath.js\"],\n",
       "                           equationNumbers: { autoNumber: \"AMS\", useLabelIds: true}\n",
       "                           },\n",
       "                tex2jax: {\n",
       "                    inlineMath: [ ['$','$'], [\"\\\\(\",\"\\\\)\"] ],\n",
       "                    displayMath: [ ['$$','$$'], [\"\\\\[\",\"\\\\]\"] ]\n",
       "                },\n",
       "                displayAlign: 'center', // Change this to 'center' to center equations.\n",
       "                \"HTML-CSS\": {\n",
       "                    styles: {'.MathJax_Display': {\"margin\": 4}}\n",
       "                }\n",
       "        });\n",
       "</script>\n"
      ],
      "text/plain": [
       "<IPython.core.display.HTML object>"
      ]
     },
     "execution_count": 1,
     "metadata": {},
     "output_type": "execute_result"
    }
   ],
   "source": [
    "# preserve\n",
    "from IPython.core.display import HTML\n",
    "css_file = 'styles/style.css'\n",
    "HTML(open(css_file, \"r\").read())"
   ]
  }
 ],
 "metadata": {
  "celltoolbar": "Slideshow",
  "kernelspec": {
   "display_name": "Python 3",
   "language": "python",
   "name": "python3"
  },
  "language_info": {
   "codemirror_mode": {
    "name": "ipython",
    "version": 3
   },
   "file_extension": ".py",
   "mimetype": "text/x-python",
   "name": "python",
   "nbconvert_exporter": "python",
   "pygments_lexer": "ipython3",
   "version": "3.6.3"
  }
 },
 "nbformat": 4,
 "nbformat_minor": 2
}
